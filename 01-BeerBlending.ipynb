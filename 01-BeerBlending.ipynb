{
 "cells": [
  {
   "cell_type": "markdown",
   "metadata": {},
   "source": [
    "# Problema de mezcla lineal "
   ]
  },
  {
   "cell_type": "markdown",
   "metadata": {},
   "source": [
    "## Instalación de paquetes y librerías necesarias "
   ]
  },
  {
   "cell_type": "code",
   "execution_count": 1,
   "metadata": {},
   "outputs": [],
   "source": [
    "import shutil\n",
    "import sys\n",
    "import os.path\n",
    "\n",
    "# check if pyomo has been installed. If not, install with pip\n",
    "if not shutil.which(\"pyomo\"):\n",
    "    !pip install -q pyomo\n",
    "assert(shutil.which(\"pyomo\"))\n",
    "\n",
    "# check if GLPK is installed. If not, install.\n",
    "if not (shutil.which(\"glpsol\") or os.path.isfile(\"glpsol\")):\n",
    "    if \"google.colab\" in sys.modules:\n",
    "        !apt-get install -y -qq glpk-utils\n",
    "    else:\n",
    "        try:\n",
    "            !conda install -c conda-forge glpk\n",
    "        except:\n",
    "            pass\n",
    "assert(shutil.which(\"glpsol\") or os.path.isfile(\"glpsol\"))"
   ]
  },
  {
   "cell_type": "markdown",
   "metadata": {},
   "source": [
    "# Problema de mezcla lineal\n",
    "Como ingeniero de procesos de una cervecería, una de tus responsabilidades se basa en planificar la producción. \n",
    "\n",
    "Habeís recibido un pedido de 100 galones de cerveza, cuya graduación debe ser del 4% de alcohol por volumen. La cervecería tiene dos líneas de producción. La cerveza A tiene un porcentaje de alcohol del 4.5% y un coste de producción 0.32 €/m3 mientras que la cerveza B de 3.7% tiene unos costes de producción 0.25 €/m3. Como alternativa, se puede utilizar agua como agente de mezcla para conseguir la graduación requerida por el cliente, a un coste de 0.05 €/m3.\n",
    "\n",
    "Tu tarea es encontrar la mezcla de coste mínimo que cumpla las especificaciones del cliente."
   ]
  },
  {
   "cell_type": "markdown",
   "metadata": {},
   "source": [
    "## Implementación del modelo\n",
    "El primer paso consiste en importar Pyomo y definir el tipo de modelo que se va a utilizar."
   ]
  },
  {
   "cell_type": "code",
   "execution_count": 2,
   "metadata": {},
   "outputs": [],
   "source": [
    "import pyomo.environ as pyo\n",
    "\n",
    "m = pyo.ConcreteModel()"
   ]
  },
  {
   "cell_type": "markdown",
   "metadata": {},
   "source": [
    "### Sets"
   ]
  },
  {
   "cell_type": "code",
   "execution_count": 3,
   "metadata": {},
   "outputs": [],
   "source": [
    "m.C ="
   ]
  },
  {
   "cell_type": "markdown",
   "metadata": {},
   "source": [
    "### Variables"
   ]
  },
  {
   "cell_type": "code",
   "execution_count": null,
   "metadata": {},
   "outputs": [],
   "source": [
    "m.x ="
   ]
  },
  {
   "cell_type": "markdown",
   "metadata": {},
   "source": [
    "### Parámetros"
   ]
  },
  {
   "cell_type": "code",
   "execution_count": null,
   "metadata": {},
   "outputs": [],
   "source": [
    "m.P = pyo.Param(m.C, initialize = {'A': 0.32, 'B': 0.25, 'C': 0.05}, doc = 'Coste €/m3')\n",
    "m.apv = \n",
    "m.V =\n",
    "m.apv_spec ="
   ]
  },
  {
   "cell_type": "markdown",
   "metadata": {},
   "source": [
    "### Funcion objetivo\n",
    "$$\n",
    "\\begin{align}\n",
    "\\text{coste} & = \\sum_{c\\in C} x_c P_c \\nonumber\n",
    "\\end{align}\n",
    "$$\n",
    "Para definir la función objetivo, se utiliza el comando `Objective` cuya sintaxis es la siguiente: \n",
    "`Objective(expr=myfunction, sense=keyword)`\n",
    "- expr: función que devuelve un único valor\n",
    "- sense: `maximize` o `minimize`\n"
   ]
  },
  {
   "cell_type": "code",
   "execution_count": null,
   "metadata": {},
   "outputs": [],
   "source": [
    "m.obj ="
   ]
  },
  {
   "cell_type": "markdown",
   "metadata": {},
   "source": [
    "### Restricciones\n",
    "De igual manera, el comando `Constraint(expr=myfunction)`sirve para definir las restricciones del problema. En este caso, el comando solo toma un argumento: la función con la que evaluar cada una de las restricciones.\n",
    "- Satisfacción de la demanda\n",
    "$\n",
    "\\begin{align}\n",
    "V &  = \\sum_{c\\in C} x_c \\nonumber\n",
    "\\end{align}\n",
    "$"
   ]
  },
  {
   "cell_type": "code",
   "execution_count": null,
   "metadata": {},
   "outputs": [],
   "source": [
    "m.con_demand = "
   ]
  },
  {
   "cell_type": "markdown",
   "metadata": {},
   "source": [
    "- Composición del producto\n",
    "$$\n",
    "\\begin{align}\n",
    "\\bar{A} & = \\frac{\\sum_{c\\in C}x_c A_c}{\\sum_{c\\in C} x_c} & \\text{¡No es lineal!} \\nonumber\n",
    "\\end{align}\n",
    "$$\n",
    "$$\n",
    "\\begin{align}\n",
    "0 & = \\sum_{c\\in C}x_c \\left(A_c - \\bar{A}\\right) & \\text{} \\nonumber\n",
    "\\end{align}\n",
    "$$"
   ]
  },
  {
   "cell_type": "code",
   "execution_count": null,
   "metadata": {},
   "outputs": [],
   "source": [
    "m.con_spec ="
   ]
  },
  {
   "cell_type": "markdown",
   "metadata": {},
   "source": [
    "## Selección y llamada al solver\n",
    "El algoritmo que se va a utilizar en la resolución del problema se llama con la orden `SolverFactory(solver_name)`, donde solver `solver_name` debe ser un dato de tipo cadena (string). En este caso, se va a utilizar el paquete GLPK (GNU Linear Programming Kit)."
   ]
  },
  {
   "cell_type": "code",
   "execution_count": null,
   "metadata": {},
   "outputs": [],
   "source": [
    "optimizer = pyo.SolverFactory('glpk') \n",
    "results = optimizer.solve(m)"
   ]
  },
  {
   "cell_type": "markdown",
   "metadata": {},
   "source": [
    "## Inspeccionar la solución\n",
    "Una vez ejecutado el comando solve, nuestro objeto `model` se ha modificado y el valor de las variables se corresponde con el de la solución óptima. Para visualizar qué valor ha tomado cada variable hay dos opciones:\n",
    "- Utilizar el comando `pprint()`. La sintaxis correcta es `model.variable.pprint()`, aunque también se puede mostrar toda la información de una vez escribiendo `model.pprint()`.\n",
    "- Accediendo directamente a la solución por medio de `model.variable()`."
   ]
  },
  {
   "cell_type": "code",
   "execution_count": null,
   "metadata": {},
   "outputs": [],
   "source": [
    "print('Optimal Blend')\n",
    "for c in m.C:\n",
    "    print('  ', c, ':', m.x[c](), 'm3')\n",
    "print()\n",
    "print('Volumen = ', m.V(), 'm3')\n",
    "print('Coste = ', m.obj(), ' €')"
   ]
  },
  {
   "cell_type": "markdown",
   "metadata": {},
   "source": [
    "Además, el objeto `results` contiene información de interés sobre la solución obtenida que puede resultar útil para detectar errores."
   ]
  },
  {
   "cell_type": "code",
   "execution_count": null,
   "metadata": {},
   "outputs": [],
   "source": [
    "print(results.solver.status)\n",
    "print(results.solver.termination_condition)"
   ]
  }
 ],
 "metadata": {
  "kernelspec": {
   "display_name": "env_curso_pyomo",
   "language": "python",
   "name": "python3"
  },
  "language_info": {
   "codemirror_mode": {
    "name": "ipython",
    "version": 3
   },
   "file_extension": ".py",
   "mimetype": "text/x-python",
   "name": "python",
   "nbconvert_exporter": "python",
   "pygments_lexer": "ipython3",
   "version": "3.13.2"
  }
 },
 "nbformat": 4,
 "nbformat_minor": 2
}
