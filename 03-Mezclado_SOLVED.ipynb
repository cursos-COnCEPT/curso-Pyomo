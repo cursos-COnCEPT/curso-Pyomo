{
 "cells": [
  {
   "cell_type": "code",
   "execution_count": 1,
   "metadata": {},
   "outputs": [],
   "source": [
    "import pandas as pd\n",
    "import shutil\n",
    "import sys\n",
    "import os.path\n",
    "\n",
    "if not shutil.which(\"pyomo\"):\n",
    "    !pip install -q pyomo\n",
    "    assert(shutil.which(\"pyomo\"))\n",
    "\n",
    "# check if GLPK is installed. If not, install.\n",
    "if not (shutil.which(\"glpsol\") or os.path.isfile(\"glpsol\")):\n",
    "    if \"google.colab\" in sys.modules:\n",
    "        !apt-get install -y -qq glpk-utils\n",
    "    else:\n",
    "        try:\n",
    "            !conda install -c conda-forge glpk\n",
    "        except:\n",
    "            pass\n",
    "assert(shutil.which(\"glpsol\") or os.path.isfile(\"glpsol\"))"
   ]
  },
  {
   "cell_type": "markdown",
   "metadata": {},
   "source": [
    "# Formulación de mezclas óptima\n",
    "Dado un conjunto de productos químicos y un conjunto de restricciones de propiedades, determinar la mezcla y/o combinación óptima de los diferentes compuestos que resulta en el menor coste posible."
   ]
  },
  {
   "cell_type": "markdown",
   "metadata": {},
   "source": [
    "## Datos"
   ]
  },
  {
   "cell_type": "code",
   "execution_count": 2,
   "metadata": {},
   "outputs": [
    {
     "data": {
      "text/html": [
       "<div>\n",
       "<style scoped>\n",
       "    .dataframe tbody tr th:only-of-type {\n",
       "        vertical-align: middle;\n",
       "    }\n",
       "\n",
       "    .dataframe tbody tr th {\n",
       "        vertical-align: top;\n",
       "    }\n",
       "\n",
       "    .dataframe thead th {\n",
       "        text-align: right;\n",
       "    }\n",
       "</style>\n",
       "<table border=\"1\" class=\"dataframe\">\n",
       "  <thead>\n",
       "    <tr style=\"text-align: right;\">\n",
       "      <th></th>\n",
       "      <th>A</th>\n",
       "      <th>B</th>\n",
       "      <th>C</th>\n",
       "    </tr>\n",
       "  </thead>\n",
       "  <tbody>\n",
       "    <tr>\n",
       "      <th>Coste</th>\n",
       "      <td>2.0</td>\n",
       "      <td>2.0</td>\n",
       "      <td>5.0</td>\n",
       "    </tr>\n",
       "    <tr>\n",
       "      <th>VitA</th>\n",
       "      <td>0.5</td>\n",
       "      <td>0.4</td>\n",
       "      <td>0.3</td>\n",
       "    </tr>\n",
       "    <tr>\n",
       "      <th>VitB</th>\n",
       "      <td>0.2</td>\n",
       "      <td>0.1</td>\n",
       "      <td>0.3</td>\n",
       "    </tr>\n",
       "  </tbody>\n",
       "</table>\n",
       "</div>"
      ],
      "text/plain": [
       "         A    B    C\n",
       "Coste  2.0  2.0  5.0\n",
       "VitA   0.5  0.4  0.3\n",
       "VitB   0.2  0.1  0.3"
      ]
     },
     "metadata": {},
     "output_type": "display_data"
    },
    {
     "name": "stdout",
     "output_type": "stream",
     "text": [
      "Cantidad máxima de vitamina A: 0.4\n",
      "Cantidad mínima de vitamina B: 0.2\n",
      "Componenetes A y B son incompatibles\n"
     ]
    }
   ],
   "source": [
    "d = {'Coste':{'A': 2. , 'B': 2.  , 'C': 5.  }, \n",
    "     'VitA': {'A': .5 ,'B': .4, 'C': .3 }, \n",
    "     'VitB': {'A': .2 , 'B': .1 , 'C': .3 }\n",
    "     }\n",
    "df = pd.DataFrame.from_dict(d, orient='index')\n",
    "\n",
    "display(df)\n",
    "print('Cantidad máxima de vitamina A:', 0.4)\n",
    "print('Cantidad mínima de vitamina B:', 0.2)\n",
    "print('Componenetes A y B son incompatibles')"
   ]
  },
  {
   "cell_type": "code",
   "execution_count": 3,
   "metadata": {},
   "outputs": [],
   "source": [
    "data = {None: {'C': ['A','B','C'] , \n",
    "               'P': d['Coste'] , \n",
    "               'VitA': d['VitA'] ,\n",
    "               'VitB': d['VitB']  ,\n",
    "               'VitA_UB': .4 ,\n",
    "               'VitB_LB': .2 , \n",
    "               }} "
   ]
  },
  {
   "cell_type": "markdown",
   "metadata": {},
   "source": [
    "## Implementación del modelo\n",
    "El primer paso consiste en importar Pyomo y definir el tipo de modelo que se va a utilizar. Para este problema vamos a utilizar un modelo tipo `ConcreteModel`."
   ]
  },
  {
   "cell_type": "code",
   "execution_count": 4,
   "metadata": {},
   "outputs": [],
   "source": [
    "import pyomo.environ as pyo\n",
    "\n",
    "model  = pyo.ConcreteModel()"
   ]
  },
  {
   "cell_type": "markdown",
   "metadata": {},
   "source": [
    "### Sets"
   ]
  },
  {
   "cell_type": "code",
   "execution_count": 5,
   "metadata": {},
   "outputs": [],
   "source": [
    "model.C = pyo.Set(initialize = ['A','B','C'], doc = 'Componentes') \n",
    "def incompatible_filter(model, i, j):\n",
    "    return i == 'A' and j == 'B' \n",
    "model.C_incompat = pyo.Set(initialize=model.C*model.C, filter=incompatible_filter, doc = 'Pares incompatibles')"
   ]
  },
  {
   "cell_type": "code",
   "execution_count": 6,
   "metadata": {},
   "outputs": [
    {
     "name": "stdout",
     "output_type": "stream",
     "text": [
      "C_incompat : Pares incompatibles\n",
      "    Size=1, Index=None, Ordered=Insertion\n",
      "    Key  : Dimen : Domain : Size : Members\n",
      "    None :     2 :    Any :    1 : {('A', 'B'),}\n",
      "C : Componentes\n",
      "    Size=1, Index=None, Ordered=Insertion\n",
      "    Key  : Dimen : Domain : Size : Members\n",
      "    None :     1 :    Any :    3 : {'A', 'B', 'C'}\n"
     ]
    }
   ],
   "source": [
    "model.C_incompat.pprint()\n",
    "model.C.pprint()"
   ]
  },
  {
   "cell_type": "markdown",
   "metadata": {},
   "source": [
    "### Variables"
   ]
  },
  {
   "cell_type": "code",
   "execution_count": 7,
   "metadata": {},
   "outputs": [],
   "source": [
    "model.x = pyo.Var(model.C, bounds = (0.,1.))\n",
    "model.y = pyo.Var(model.C_incompat, domain=pyo.Boolean)"
   ]
  },
  {
   "cell_type": "markdown",
   "metadata": {},
   "source": [
    "### Parámetros"
   ]
  },
  {
   "cell_type": "code",
   "execution_count": 8,
   "metadata": {},
   "outputs": [],
   "source": [
    "model.P = pyo.Param(model.C, initialize = d['Coste'], doc='Coste UM')\n",
    "model.VitA = pyo.Param(model.C, initialize = d['VitA'], doc='Contenido de VitA')\n",
    "model.VitB = pyo.Param(model.C, initialize = d['VitB'], doc='Contenido de VitB')\n",
    "model.VitA_UB = pyo.Param(initialize = 0.4, doc='Cantidad máxima de VitA')\n",
    "model.VitB_LB = pyo.Param(initialize = 0.2, doc='Cantidad mínima de VitB')\n",
    "model.BigM = pyo.Param(initialize = 100, doc = 'Coeficiente BigM')"
   ]
  },
  {
   "cell_type": "markdown",
   "metadata": {},
   "source": [
    "### Funcion objetivo\n",
    "$$\n",
    "\\begin{align}\n",
    "\\text{Coste total} & = \\sum_{c\\in C} x_{c} P_{c} \\nonumber\n",
    "\\end{align}\n",
    "$$"
   ]
  },
  {
   "cell_type": "code",
   "execution_count": 9,
   "metadata": {},
   "outputs": [],
   "source": [
    "def obj_rule(m):\n",
    "    return sum(m.P[c]*m.x[c] for c in m.C)\n",
    "model.obj = pyo.Objective(rule = obj_rule)"
   ]
  },
  {
   "cell_type": "markdown",
   "metadata": {},
   "source": [
    "### Restricciones estructurales\n",
    "- Balance de materia\n",
    "$\n",
    "\\begin{align}\n",
    "\\sum_{c\\in C} x_{c} & = 1 \\nonumber\n",
    "\\end{align}\n",
    "$"
   ]
  },
  {
   "cell_type": "code",
   "execution_count": 10,
   "metadata": {},
   "outputs": [],
   "source": [
    "model.massfraction = pyo.Constraint(rule = lambda m: sum(m.x[c] for c in m.C) == 1)"
   ]
  },
  {
   "cell_type": "markdown",
   "metadata": {},
   "source": [
    "- Especificaciones del producto final\n",
    "$\n",
    "\\begin{align}\n",
    "\\sum_{c\\in C} x_{c}VitA_{c} & \\leq VitA^{UB} \\nonumber \\\\\n",
    "\\sum_{c\\in C} x_{c}VitB_{c} & \\geq VitB^{LB} \\nonumber\n",
    "\\end{align}\n",
    "$"
   ]
  },
  {
   "cell_type": "code",
   "execution_count": 11,
   "metadata": {},
   "outputs": [],
   "source": [
    "model.comp_ub = pyo.Constraint(rule = lambda m: sum(m.VitA[c]*m.x[c] for c in m.C) <= m.VitA_UB )\n",
    "model.comp_lb = pyo.Constraint(rule = lambda m: sum(m.VitB[c]*m.x[c] for c in m.C) >= m.VitB_LB ) "
   ]
  },
  {
   "cell_type": "markdown",
   "metadata": {},
   "source": [
    "# Restricciones lógicas: incompatibilidad de componentes\n",
    "\n",
    "- Reformulación Big-M\n",
    "$\n",
    "\\begin{align}\n",
    "x_A & \\leq M\\;y \\nonumber \\\\\n",
    "x_B & \\leq (1-M)\\;y \\nonumber\n",
    "\\end{align}\n",
    "$\n"
   ]
  },
  {
   "cell_type": "code",
   "execution_count": 12,
   "metadata": {},
   "outputs": [],
   "source": [
    "model.ref_BigM = pyo.ConstraintList()\n",
    "for pair in model.C_incompat:\n",
    "    a, b = pair\n",
    "    model.ref_BigM.add(model.x[a] <= model.BigM*model.y[pair])\n",
    "    model.ref_BigM.add(model.x[b] <= model.BigM*(1-model.y[pair]))        "
   ]
  },
  {
   "cell_type": "markdown",
   "metadata": {},
   "source": [
    "- Disyunciones\n",
    "\n",
    "Antes de utilizar la enxtensión para GDP de Pyomo, hay que importar las funciones correspondientes. Para modelar la siguiente disyunción, se necesitarán los comandos `Disjunct`, `Disjunction` y, más adelante, `TransformationFactory`.\n",
    "\n",
    "$$\n",
    "\\left[\n",
    "\\begin{array}{c}\n",
    "Y \\\\\n",
    "x_B=0\n",
    "\\end{array}\n",
    "\\right] \n",
    "\\lor \n",
    "\\left[\n",
    "\\begin{array}{c}\n",
    "\\neg Y \\\\\n",
    "x_A=0\n",
    "\\end{array}\n",
    "\\right]\n",
    "$$"
   ]
  },
  {
   "cell_type": "code",
   "execution_count": 13,
   "metadata": {},
   "outputs": [],
   "source": [
    "# Importar funciones necesarias\n",
    "from pyomo.gdp import Disjunct, Disjunction\n",
    "\n",
    "# Término que se cumple si Y = True\n",
    "model.term1 = Disjunct()\n",
    "model.term1.consA = pyo.Constraint(expr= model.x['A'] == 0)\n",
    "\n",
    "# Término que se cumple si Y = False\n",
    "model.term2 = Disjunct()\n",
    "model.term2.consB = pyo.Constraint(expr= model.x['B'] == 0)\n",
    "\n",
    "# Añadir restricción en forma de disyunción\n",
    "model.disyuncion = Disjunction(expr = [model.term1, model.term2])"
   ]
  },
  {
   "cell_type": "markdown",
   "metadata": {},
   "source": [
    "## Resolución\n",
    "El solver que se va a utilizar en la optimización de este problema es Cbc (Coin-or branch and cut). La nomenclatura para llamarlo es `SolverFactory('cbc')`.\n",
    "\n",
    "### Reformulación Big M"
   ]
  },
  {
   "cell_type": "code",
   "execution_count": 14,
   "metadata": {},
   "outputs": [],
   "source": [
    "# Desactivar restricciones\n",
    "model.term1.deactivate()\n",
    "model.term2.deactivate()\n",
    "model.disyuncion.deactivate()\n",
    "\n",
    "# Llamada al solver\n",
    "opt = pyo.SolverFactory('glpk')\n",
    "results = opt.solve(model)"
   ]
  },
  {
   "cell_type": "code",
   "execution_count": 15,
   "metadata": {},
   "outputs": [
    {
     "name": "stdout",
     "output_type": "stream",
     "text": [
      "A = 0.5\n",
      "B = 0.0\n",
      "C = 0.5\n"
     ]
    }
   ],
   "source": [
    "for c in model.C:\n",
    "    print(f\"{c} = {model.x[c]()}\")"
   ]
  },
  {
   "cell_type": "markdown",
   "metadata": {},
   "source": [
    "### Extensión Pyomo GDP\n",
    "Aplica el método de la envolvente convexa para reformular la disyunción que aparece en este problema. La sintaxis que debes utilizar es `TransoformationFactory(trf_name).apply_to(model_name)`."
   ]
  },
  {
   "cell_type": "code",
   "execution_count": 16,
   "metadata": {},
   "outputs": [],
   "source": [
    "# # Acivar/desactivar restricciones\n",
    "# model.term1.activate()\n",
    "# model.term2.activate()\n",
    "model.disyuncion.activate()\n",
    "\n",
    "model.ref_BigM.deactivate()\n",
    "\n",
    "# Aplicar tranformación\n",
    "transformation = 'hull'\n",
    "if transformation == 'bigm':\n",
    "    pyo.TransformationFactory('gdp.bigm').apply_to(model)\n",
    "elif transformation == 'hull':\n",
    "    pyo.TransformationFactory('gdp.hull').apply_to(model)\n",
    "  \n",
    "# Llamada al solver\n",
    "opt = pyo.SolverFactory('glpk')\n",
    "results = opt.solve(model)"
   ]
  },
  {
   "cell_type": "code",
   "execution_count": 17,
   "metadata": {},
   "outputs": [
    {
     "name": "stdout",
     "output_type": "stream",
     "text": [
      "A = 0.5\n",
      "B = 0.0\n",
      "C = 0.5\n"
     ]
    }
   ],
   "source": [
    "for c in model.C:\n",
    "    print(f\"{c} = {model.x[c]()}\")"
   ]
  }
 ],
 "metadata": {
  "kernelspec": {
   "display_name": "env_curso_pyomo",
   "language": "python",
   "name": "python3"
  },
  "language_info": {
   "codemirror_mode": {
    "name": "ipython",
    "version": 3
   },
   "file_extension": ".py",
   "mimetype": "text/x-python",
   "name": "python",
   "nbconvert_exporter": "python",
   "pygments_lexer": "ipython3",
   "version": "3.13.2"
  }
 },
 "nbformat": 4,
 "nbformat_minor": 2
}
