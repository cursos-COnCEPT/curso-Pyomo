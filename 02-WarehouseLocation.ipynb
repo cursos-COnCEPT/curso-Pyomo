{
 "cells": [
  {
   "cell_type": "code",
   "execution_count": 27,
   "metadata": {},
   "outputs": [],
   "source": [
    "import shutil\n",
    "import sys\n",
    "import os.path\n",
    "import pandas as pd\n",
    "\n",
    "# check if pyomo has been installed. If not, install with pip\n",
    "if not shutil.which(\"pyomo\"):\n",
    "    !pip install -q pyomo\n",
    "assert(shutil.which(\"pyomo\"))\n",
    "\n",
    "# check if GLPK is installed. If not, install.\n",
    "if not (shutil.which(\"glpsol\") or os.path.isfile(\"glpsol\")):\n",
    "    if \"google.colab\" in sys.modules:\n",
    "        !apt-get install -y -qq glpk-utils\n",
    "    else:\n",
    "        try:\n",
    "            !conda install -c conda-forge glpk\n",
    "        except:\n",
    "            pass\n",
    "assert(shutil.which(\"glpsol\") or os.path.isfile(\"glpsol\"))"
   ]
  },
  {
   "cell_type": "markdown",
   "metadata": {},
   "source": [
    "# Selección de la ubicación de almacenes\n",
    "La ubicación de almacenes es un problema típico de optimización discreta. Una empresa está considerando una serie de ubicaciones para construir almacenes que abastezcan a un conjunto de tiendas. Cada almacén tiene un coste de explotación fijo y una capacidad máxima que especifica el número de tiendas que puede atender. Además, cada tienda debe ser abastecida exactamente por un almacén y el coste de abastecer una tienda depende del almacén seleccionado. \n",
    "\n",
    "El modelo consiste en elegir qué almacenes construir y qué almacén asignar a cada tienda para minimizar el coste total, es decir, la suma de los costes fijos y de suministro. "
   ]
  },
  {
   "cell_type": "markdown",
   "metadata": {},
   "source": [
    "## Datos\n",
    "Este problema se va a modelar como un `AbstractModel` y los datos se cargarán al modelo por medio de una diccionario. En la siguiente tabla aparecen los costes de transporte entre las ciudadaes y los almacenes."
   ]
  },
  {
   "cell_type": "code",
   "execution_count": null,
   "metadata": {},
   "outputs": [
    {
     "data": {
      "text/html": [
       "<div>\n",
       "<style scoped>\n",
       "    .dataframe tbody tr th:only-of-type {\n",
       "        vertical-align: middle;\n",
       "    }\n",
       "\n",
       "    .dataframe tbody tr th {\n",
       "        vertical-align: top;\n",
       "    }\n",
       "\n",
       "    .dataframe thead th {\n",
       "        text-align: right;\n",
       "    }\n",
       "</style>\n",
       "<table border=\"1\" class=\"dataframe\">\n",
       "  <thead>\n",
       "    <tr style=\"text-align: right;\">\n",
       "      <th></th>\n",
       "      <th>NYC</th>\n",
       "      <th>LA</th>\n",
       "      <th>Chicago</th>\n",
       "      <th>Houston</th>\n",
       "    </tr>\n",
       "  </thead>\n",
       "  <tbody>\n",
       "    <tr>\n",
       "      <th>Harlingen</th>\n",
       "      <td>1956</td>\n",
       "      <td>1606</td>\n",
       "      <td>1410</td>\n",
       "      <td>330</td>\n",
       "    </tr>\n",
       "    <tr>\n",
       "      <th>Memphis</th>\n",
       "      <td>1096</td>\n",
       "      <td>1792</td>\n",
       "      <td>531</td>\n",
       "      <td>567</td>\n",
       "    </tr>\n",
       "    <tr>\n",
       "      <th>Ashland</th>\n",
       "      <td>485</td>\n",
       "      <td>2322</td>\n",
       "      <td>324</td>\n",
       "      <td>1236</td>\n",
       "    </tr>\n",
       "  </tbody>\n",
       "</table>\n",
       "</div>"
      ],
      "text/plain": [
       "            NYC    LA  Chicago  Houston\n",
       "Harlingen  1956  1606     1410      330\n",
       "Memphis    1096  1792      531      567\n",
       "Ashland     485  2322      324     1236"
      ]
     },
     "metadata": {},
     "output_type": "display_data"
    }
   ],
   "source": [
    "d = {'Harlingen':{'NYC': 1956, 'LA': 1606, 'Chicago': 1410 , 'Houston': 330}, \n",
    "     'Memphis': {'NYC': 1096,'LA': 1792, 'Chicago': 531, 'Houston': 567}, \n",
    "     'Ashland': {'NYC': 485, 'LA': 2322, 'Chicago': 324, 'Houston': 1236 }\n",
    "     }\n",
    "pd.DataFrame.from_dict(d, orient='index')"
   ]
  },
  {
   "cell_type": "markdown",
   "metadata": {},
   "source": [
    "Para terminar de completar este objeto tipo `dict`, crea un diccionario que relacione cada par ($w$,$c$) con el respectivo valor del coste.\n",
    "```python\n",
    "coste = {('Harlingen','NYC'): 1956,\n",
    "         ('Harlingen','LA'): 1606,\n",
    "         ...\n",
    "         }\n",
    "```"
   ]
  },
  {
   "cell_type": "code",
   "execution_count": null,
   "metadata": {},
   "outputs": [],
   "source": [
    "data = {None: {'W': ['Harlingen', 'Memphis', 'Ashland'], \n",
    "               'C': ['NYC', 'LA', 'Chicago', 'Houston'], \n",
    "               'P': {None: 2} ,\n",
    "               'cost': # COMPLETA AQUÍ CON LOS COSTES DE TRANSPORTE\n",
    "               }}"
   ]
  },
  {
   "cell_type": "markdown",
   "metadata": {},
   "source": [
    "## Implementación del modelo\n",
    "El primer paso consiste en importar Pyomo y definir el tipo de modelo que se va a utilizar."
   ]
  },
  {
   "cell_type": "code",
   "execution_count": 30,
   "metadata": {},
   "outputs": [],
   "source": [
    "import pyomo.environ as pyo\n",
    "\n",
    "model  = pyo.AbstractModel()"
   ]
  },
  {
   "cell_type": "markdown",
   "metadata": {},
   "source": [
    "### Sets"
   ]
  },
  {
   "cell_type": "code",
   "execution_count": null,
   "metadata": {},
   "outputs": [],
   "source": [
    "model.C = \n",
    "model.W = "
   ]
  },
  {
   "cell_type": "markdown",
   "metadata": {},
   "source": [
    "### Variables"
   ]
  },
  {
   "cell_type": "code",
   "execution_count": null,
   "metadata": {},
   "outputs": [],
   "source": [
    "model.x = \n",
    "model.y = "
   ]
  },
  {
   "cell_type": "markdown",
   "metadata": {},
   "source": [
    "### Parámetros"
   ]
  },
  {
   "cell_type": "code",
   "execution_count": null,
   "metadata": {},
   "outputs": [],
   "source": [
    "model.cost = \n",
    "model.P = "
   ]
  },
  {
   "cell_type": "markdown",
   "metadata": {},
   "source": [
    "### Funcion objetivo\n",
    "$$\n",
    "\\begin{align}\n",
    "\\text{Coste total} & = \\sum_{w\\in W} \\sum_{c\\in C} \\text{cost}_{wc} x_{wc} \\nonumber\n",
    "\\end{align}\n",
    "$$"
   ]
  },
  {
   "cell_type": "code",
   "execution_count": null,
   "metadata": {},
   "outputs": [],
   "source": [
    "def obj_rule(m):\n",
    "    return \n",
    "model.obj = pyo.Objective(rule=obj_rule)"
   ]
  },
  {
   "cell_type": "markdown",
   "metadata": {},
   "source": [
    "### Restricciones\n",
    "En este caso, se van a utilizar \"reglas\" para definir las restricciones. Cuando se utiliza el comando `Constraint(rule=myfunction)`, debe especificarse una función que toma como argumentos de entrada el modelo y los índices de los que depende la restricción.\n",
    "\n",
    "- Cada tienda es abastecida exactamente por un almacén\n",
    "$\n",
    "\\begin{align}\n",
    "\\sum_{w\\in W} x_{wc} & = 1 \\nonumber\n",
    "\\end{align}\n",
    "$"
   ]
  },
  {
   "cell_type": "code",
   "execution_count": null,
   "metadata": {},
   "outputs": [],
   "source": [
    "def one_per_cust_rule(m, c):\n",
    "    return \n",
    "model.one_per_cust = "
   ]
  },
  {
   "cell_type": "markdown",
   "metadata": {},
   "source": [
    "- Número de almacenes que se desea construir\n",
    "$\n",
    "\\begin{align}\n",
    "\\sum_{w\\in W} y_{w} & = P \\nonumber\n",
    "\\end{align}\n",
    "$"
   ]
  },
  {
   "cell_type": "code",
   "execution_count": null,
   "metadata": {},
   "outputs": [],
   "source": [
    "model.num_warehouses = "
   ]
  },
  {
   "cell_type": "markdown",
   "metadata": {},
   "source": [
    "- Modelado con variables binarias\n",
    "$$\n",
    "\\text{Coste} =\n",
    "\\begin{cases} \n",
    "x_{wc} = 0 & \\text{si  } \\; y_w=0 \\\\\n",
    "0 \\leq x_{wc} \\leq 1 & \\text{si  }\\; y_w=1\n",
    "\\end{cases}\n",
    "$$"
   ]
  },
  {
   "cell_type": "code",
   "execution_count": null,
   "metadata": {},
   "outputs": [],
   "source": [
    "model.warehouse_active = "
   ]
  },
  {
   "cell_type": "markdown",
   "metadata": {},
   "source": [
    "## Carga de datos al modelo "
   ]
  },
  {
   "cell_type": "code",
   "execution_count": 38,
   "metadata": {},
   "outputs": [],
   "source": [
    "instance = model.create_instance(data)"
   ]
  },
  {
   "cell_type": "markdown",
   "metadata": {},
   "source": [
    "## Selección y llamada al solver\n",
    "El algoritmo que se va a utilizar en la resolución del problema se llama con la orden `SolverFactory(solver_name)`, donde solver `solver_name` debe ser un dato de tipo cadena (string). En este caso, se va a utilizar el paquete GLPK (GNU Linear Programming Kit)."
   ]
  },
  {
   "cell_type": "code",
   "execution_count": 39,
   "metadata": {},
   "outputs": [],
   "source": [
    "optimizer = pyo.SolverFactory('glpk')\n",
    "results = optimizer.solve(instance)"
   ]
  },
  {
   "cell_type": "markdown",
   "metadata": {},
   "source": [
    "## Inspeccionar la solución"
   ]
  },
  {
   "cell_type": "code",
   "execution_count": 40,
   "metadata": {},
   "outputs": [
    {
     "name": "stdout",
     "output_type": "stream",
     "text": [
      "Distribución óptima:\n",
      "x : Size=12, Index=W*C\n",
      "    Key                      : Lower : Value : Upper : Fixed : Stale : Domain\n",
      "      ('Ashland', 'Chicago') :     0 :   1.0 :     1 : False : False :  Reals\n",
      "      ('Ashland', 'Houston') :     0 :   0.0 :     1 : False : False :  Reals\n",
      "           ('Ashland', 'LA') :     0 :   0.0 :     1 : False : False :  Reals\n",
      "          ('Ashland', 'NYC') :     0 :   1.0 :     1 : False : False :  Reals\n",
      "    ('Harlingen', 'Chicago') :     0 :   0.0 :     1 : False : False :  Reals\n",
      "    ('Harlingen', 'Houston') :     0 :   1.0 :     1 : False : False :  Reals\n",
      "         ('Harlingen', 'LA') :     0 :   1.0 :     1 : False : False :  Reals\n",
      "        ('Harlingen', 'NYC') :     0 :   0.0 :     1 : False : False :  Reals\n",
      "      ('Memphis', 'Chicago') :     0 :   0.0 :     1 : False : False :  Reals\n",
      "      ('Memphis', 'Houston') :     0 :   0.0 :     1 : False : False :  Reals\n",
      "           ('Memphis', 'LA') :     0 :   0.0 :     1 : False : False :  Reals\n",
      "          ('Memphis', 'NYC') :     0 :   0.0 :     1 : False : False :  Reals\n",
      "Coste total: 2745.0   UM\n"
     ]
    }
   ],
   "source": [
    "print('Distribución óptima:')\n",
    "instance.x.pprint()\n",
    "print('Coste total:', instance.obj(),'  UM')"
   ]
  },
  {
   "cell_type": "code",
   "execution_count": 41,
   "metadata": {},
   "outputs": [
    {
     "name": "stdout",
     "output_type": "stream",
     "text": [
      "ok\n",
      "optimal\n"
     ]
    }
   ],
   "source": [
    "print(results.solver.status)\n",
    "print(results.solver.termination_condition)"
   ]
  },
  {
   "cell_type": "markdown",
   "metadata": {},
   "source": [
    "## Análisis de sensibilidad"
   ]
  },
  {
   "cell_type": "code",
   "execution_count": null,
   "metadata": {
    "vscode": {
     "languageId": "plaintext"
    }
   },
   "outputs": [],
   "source": [
    "instance.P = "
   ]
  },
  {
   "cell_type": "code",
   "execution_count": 42,
   "metadata": {},
   "outputs": [],
   "source": [
    "optimizer = pyo.SolverFactory('glpk')\n",
    "results = optimizer.solve(instance)"
   ]
  },
  {
   "cell_type": "code",
   "execution_count": 43,
   "metadata": {},
   "outputs": [
    {
     "name": "stdout",
     "output_type": "stream",
     "text": [
      "Distribución óptima\n",
      "x : Size=12, Index=W*C\n",
      "    Key                      : Lower : Value : Upper : Fixed : Stale : Domain\n",
      "      ('Ashland', 'Chicago') :     0 :   1.0 :     1 : False : False :  Reals\n",
      "      ('Ashland', 'Houston') :     0 :   0.0 :     1 : False : False :  Reals\n",
      "           ('Ashland', 'LA') :     0 :   0.0 :     1 : False : False :  Reals\n",
      "          ('Ashland', 'NYC') :     0 :   1.0 :     1 : False : False :  Reals\n",
      "    ('Harlingen', 'Chicago') :     0 :   0.0 :     1 : False : False :  Reals\n",
      "    ('Harlingen', 'Houston') :     0 :   1.0 :     1 : False : False :  Reals\n",
      "         ('Harlingen', 'LA') :     0 :   1.0 :     1 : False : False :  Reals\n",
      "        ('Harlingen', 'NYC') :     0 :   0.0 :     1 : False : False :  Reals\n",
      "      ('Memphis', 'Chicago') :     0 :   0.0 :     1 : False : False :  Reals\n",
      "      ('Memphis', 'Houston') :     0 :   0.0 :     1 : False : False :  Reals\n",
      "           ('Memphis', 'LA') :     0 :   0.0 :     1 : False : False :  Reals\n",
      "          ('Memphis', 'NYC') :     0 :   0.0 :     1 : False : False :  Reals\n",
      "Coste total: 2745.0   UM\n"
     ]
    }
   ],
   "source": [
    "print('Distribución óptima')\n",
    "instance.x.pprint()\n",
    "print('Coste total:', instance.obj(),'  UM')"
   ]
  }
 ],
 "metadata": {
  "kernelspec": {
   "display_name": "env_curso_pyomo",
   "language": "python",
   "name": "python3"
  },
  "language_info": {
   "codemirror_mode": {
    "name": "ipython",
    "version": 3
   },
   "file_extension": ".py",
   "mimetype": "text/x-python",
   "name": "python",
   "nbconvert_exporter": "python",
   "pygments_lexer": "ipython3",
   "version": "3.13.2"
  }
 },
 "nbformat": 4,
 "nbformat_minor": 2
}
