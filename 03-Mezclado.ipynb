{
 "cells": [
  {
   "cell_type": "code",
   "execution_count": null,
   "metadata": {},
   "outputs": [],
   "source": [
    "import pandas as pd\n",
    "import shutil\n",
    "import sys\n",
    "import os.path\n",
    "\n",
    "if not shutil.which(\"pyomo\"):\n",
    "    !pip install -q pyomo\n",
    "    assert(shutil.which(\"pyomo\"))\n",
    "\n",
    "# check if GLPK is installed. If not, install.\n",
    "if not (shutil.which(\"glpsol\") or os.path.isfile(\"glpsol\")):\n",
    "    if \"google.colab\" in sys.modules:\n",
    "        !apt-get install -y -qq glpk-utils\n",
    "    else:\n",
    "        try:\n",
    "            !conda install -c conda-forge glpk\n",
    "        except:\n",
    "            pass\n",
    "assert(shutil.which(\"glpsol\") or os.path.isfile(\"glpsol\"))"
   ]
  },
  {
   "cell_type": "markdown",
   "metadata": {},
   "source": [
    "# Formulación de mezclas óptima\n",
    "Dado un conjunto de productos químicos y un conjunto de restricciones de propiedades, determinar la mezcla y/o combinación óptima de los diferentes compuestos que resulta en el menor coste posible."
   ]
  },
  {
   "cell_type": "markdown",
   "metadata": {},
   "source": [
    "## Datos"
   ]
  },
  {
   "cell_type": "code",
   "execution_count": null,
   "metadata": {},
   "outputs": [],
   "source": [
    "d = {'Coste':{'A': 2. , 'B': 2.  , 'C': 5.  }, \n",
    "     'VitA': {'A': .5 ,'B': .4, 'C': .3 }, \n",
    "     'VitB': {'A': .2 , 'B': .1 , 'C': .3 }\n",
    "     }\n",
    "df = pd.DataFrame.from_dict(d, orient='index')\n",
    "\n",
    "display(df)\n",
    "print('Cantidad máxima de vitamina A:', 0.4)\n",
    "print('Cantidad mínima de vitamina B:', 0.2)\n",
    "print('Componenetes A y B son incompatibles')"
   ]
  },
  {
   "cell_type": "code",
   "execution_count": null,
   "metadata": {},
   "outputs": [],
   "source": [
    "data = {None: {'C':  , \n",
    "               'P': , \n",
    "               'VitA':  ,\n",
    "               'VitB':  ,\n",
    "               'VitA_UB': ,\n",
    "               'VitB_LB': , \n",
    "               }} "
   ]
  },
  {
   "cell_type": "markdown",
   "metadata": {},
   "source": [
    "## Implementación del modelo\n",
    "El primer paso consiste en importar Pyomo y definir el tipo de modelo que se va a utilizar. Para este problema vamos a utilizar un modelo tipo `ConcreteModel`."
   ]
  },
  {
   "cell_type": "code",
   "execution_count": null,
   "metadata": {},
   "outputs": [],
   "source": [
    "import pyomo.environ as pyo\n",
    "\n",
    "model  = pyo.ConcreteModel()"
   ]
  },
  {
   "cell_type": "markdown",
   "metadata": {},
   "source": [
    "### Sets\n",
    "En este ejemplo vamos a aprender a definir subconjuntos o subsets. Pyomo permite hacer esto de forma programática, utiilizando una función o filtro. \n",
    "\n",
    "A continuación, define un set que contenga una lista con los componentes que hay disponibles para mezclar y un subset en el que cada elemento sea una pareja de compuestos incompatibles (usa una estructura de datos de tupla `(a,b)`)."
   ]
  },
  {
   "cell_type": "code",
   "execution_count": null,
   "metadata": {},
   "outputs": [],
   "source": [
    "model.C = pyo.Set ( initialize = , # TO DO\n",
    "                    doc = 'Componentes') \n",
    "\n",
    "def incompatible_filter(model, i, j):\n",
    "    return \n",
    "model.C_incompat = pyo.Set( initialize= ,# TO DO \n",
    "                            filter= ,# TO DO  \n",
    "                            doc = 'Pares incompatibles')"
   ]
  },
  {
   "cell_type": "code",
   "execution_count": null,
   "metadata": {},
   "outputs": [],
   "source": [
    "model.C_incompat.pprint()\n",
    "model.C.pprint()"
   ]
  },
  {
   "cell_type": "markdown",
   "metadata": {},
   "source": [
    "### Variables"
   ]
  },
  {
   "cell_type": "code",
   "execution_count": null,
   "metadata": {},
   "outputs": [],
   "source": [
    "model.x = \n",
    "model.y = "
   ]
  },
  {
   "cell_type": "markdown",
   "metadata": {},
   "source": [
    "### Parámetros"
   ]
  },
  {
   "cell_type": "code",
   "execution_count": null,
   "metadata": {},
   "outputs": [],
   "source": [
    "model.P = \n",
    "model.VitA = \n",
    "model.VitB = \n",
    "model.VitA_UB = \n",
    "model.VitB_LB = \n",
    "model.BigM = "
   ]
  },
  {
   "cell_type": "markdown",
   "metadata": {},
   "source": [
    "### Funcion objetivo\n",
    "$$\n",
    "\\begin{align}\n",
    "\\text{Coste total} & = \\sum_{c\\in C} x_{c} P_{c} \\nonumber\n",
    "\\end{align}\n",
    "$$"
   ]
  },
  {
   "cell_type": "code",
   "execution_count": null,
   "metadata": {},
   "outputs": [],
   "source": [
    "model.obj = "
   ]
  },
  {
   "cell_type": "markdown",
   "metadata": {},
   "source": [
    "### Restricciones estructurales\n",
    "- Balance de materia\n",
    "$\n",
    "\\begin{align}\n",
    "\\sum_{c\\in C} x_{c} & = 1 \\nonumber\n",
    "\\end{align}\n",
    "$"
   ]
  },
  {
   "cell_type": "code",
   "execution_count": null,
   "metadata": {},
   "outputs": [],
   "source": [
    "model.massfraction = "
   ]
  },
  {
   "cell_type": "markdown",
   "metadata": {},
   "source": [
    "- Especificaciones del producto final\n",
    "$\n",
    "\\begin{align}\n",
    "\\sum_{c\\in C} x_{c}VitA_{c} & \\leq VitA^{UB} \\nonumber \\\\\n",
    "\\sum_{c\\in C} x_{c}VitB_{c} & \\geq VitB^{LB} \\nonumber\n",
    "\\end{align}\n",
    "$"
   ]
  },
  {
   "cell_type": "code",
   "execution_count": null,
   "metadata": {},
   "outputs": [],
   "source": [
    "model.comp_ub = \n",
    "model.comp_lb =  "
   ]
  },
  {
   "cell_type": "markdown",
   "metadata": {},
   "source": [
    "# Restricciones lógicas: incompatibilidad de componentes\n",
    "\n",
    "- Reformulación Big-M\n",
    "$\n",
    "\\begin{align}\n",
    "x_A & \\leq M\\;y \\nonumber \\\\\n",
    "x_B & \\leq (1-M)\\;y \\nonumber\n",
    "\\end{align}\n",
    "$\n",
    "\n",
    "Además del comando `Constraint`, diferentes restricciones se pueden agrupar utilizando una `ConstraintList`."
   ]
  },
  {
   "cell_type": "code",
   "execution_count": null,
   "metadata": {},
   "outputs": [],
   "source": [
    "model.ref_BigM = pyo.ConstraintList()\n",
    "for pair in model.C_incompat:\n",
    "    a, b = pair\n",
    "    model.ref_BigM.add( ) # TO DO \n",
    "    model.ref_BigM.add( ) # TO DO    "
   ]
  },
  {
   "cell_type": "markdown",
   "metadata": {},
   "source": [
    "- Disyunciones\n",
    "\n",
    "Antes de utilizar la enxtensión para GDP de Pyomo, hay que importar las funciones correspondientes. Para modelar la siguiente disyunción, se necesitarán los comandos `Disjunct`, `Disjunction` y, más adelante, `TransformationFactory`.\n",
    "\n",
    "$$\n",
    "\\left[\n",
    "\\begin{array}{c}\n",
    "Y \\\\\n",
    "x_B=0\n",
    "\\end{array}\n",
    "\\right] \n",
    "\\lor \n",
    "\\left[\n",
    "\\begin{array}{c}\n",
    "\\neg Y \\\\\n",
    "x_A=0\n",
    "\\end{array}\n",
    "\\right]\n",
    "$$"
   ]
  },
  {
   "cell_type": "code",
   "execution_count": null,
   "metadata": {},
   "outputs": [],
   "source": [
    "# Importar funciones necesarias\n",
    "from pyomo.gdp import Disjunct, Disjunction\n",
    "\n",
    "# Término que se cumple si Y = True\n",
    "model.term1 = Disjunct()\n",
    "model.term1.consA = pyo.Constraint()\n",
    "\n",
    "# Término que se cumple si Y = False\n",
    "model.term2 = \n",
    "model.term2.consB = \n",
    "\n",
    "# Añadir restricción en forma de disyunción\n",
    "model.disyuncion = Disjunction(expr = ) # TO DO"
   ]
  },
  {
   "cell_type": "markdown",
   "metadata": {},
   "source": [
    "## Resolución\n",
    "El solver que se va a utilizar en la optimización de este problema es Cbc (Coin-or branch and cut). La nomenclatura para llamarlo es `SolverFactory('cbc')`.\n",
    "\n",
    "### Reformulación Big M"
   ]
  },
  {
   "cell_type": "code",
   "execution_count": null,
   "metadata": {},
   "outputs": [],
   "source": [
    "# Desactivar restricciones\n",
    "model.term1.deactivate()\n",
    "model.term2.deactivate()\n",
    "model.disyuncion.deactivate()\n",
    "\n",
    "# Llamada al solver\n",
    "opt = pyo.SolverFactory('glpk')\n",
    "results = opt.solve(model)"
   ]
  },
  {
   "cell_type": "code",
   "execution_count": null,
   "metadata": {},
   "outputs": [],
   "source": [
    "for c in model.C:\n",
    "    print(f\"{c} = {model.x[c]()}\")"
   ]
  },
  {
   "cell_type": "markdown",
   "metadata": {},
   "source": [
    "### Extensión Pyomo GDP\n",
    "Aplica el método de la envolvente convexa para reformular la disyunción que aparece en este problema. La sintaxis que debes utilizar es `TransoformationFactory(trf_name).apply_to(model_name)`."
   ]
  },
  {
   "cell_type": "code",
   "execution_count": null,
   "metadata": {},
   "outputs": [],
   "source": [
    "# # Acivar/desactivar restricciones\n",
    "# model.term1.activate()\n",
    "# model.term2.activate()\n",
    "model.disyuncion.activate()\n",
    "\n",
    "model.ref_BigM.deactivate()\n",
    "\n",
    "# Aplicar tranformación\n",
    "transformation = 'hull'\n",
    "if transformation == 'bigm':\n",
    "    pyo.TransformationFactory('gdp.bigm').apply_to(model)\n",
    "elif transformation == 'hull':\n",
    "    pyo.TransformationFactory('gdp.hull').apply_to(model)\n",
    "  \n",
    "# Llamada al solver\n",
    "opt = pyo.SolverFactory('glpk')\n",
    "results = opt.solve(model)"
   ]
  },
  {
   "cell_type": "code",
   "execution_count": null,
   "metadata": {},
   "outputs": [],
   "source": [
    "for c in model.C:\n",
    "    print(f\"{c} = {model.x[c]()}\")"
   ]
  }
 ],
 "metadata": {
  "kernelspec": {
   "display_name": "env_curso_pyomo",
   "language": "python",
   "name": "python3"
  },
  "language_info": {
   "codemirror_mode": {
    "name": "ipython",
    "version": 3
   },
   "file_extension": ".py",
   "mimetype": "text/x-python",
   "name": "python",
   "nbconvert_exporter": "python",
   "pygments_lexer": "ipython3",
   "version": "3.13.2"
  }
 },
 "nbformat": 4,
 "nbformat_minor": 2
}
