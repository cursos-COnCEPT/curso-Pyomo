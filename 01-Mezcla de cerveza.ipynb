{
  "cells": [
    {
      "cell_type": "markdown",
      "source": [
        "# Pyomo installation"
      ],
      "metadata": {
        "id": "fY0QmSUsF-2w"
      }
    },
    {
      "cell_type": "code",
      "source": [
        "!pip install -q pyomo\n"
      ],
      "metadata": {
        "id": "A3-czPZjF-ch"
      },
      "execution_count": 1,
      "outputs": []
    },
    {
      "cell_type": "code",
      "execution_count": 40,
      "metadata": {
        "id": "aXNQCk6ywINU",
        "pycharm": {}
      },
      "outputs": [],
      "source": [
        "!apt-get install -y -qq glpk-utils > /dev/null 2>&1"
      ]
    },
    {
      "cell_type": "markdown",
      "metadata": {
        "id": "DiQrRoP6F9c9"
      },
      "source": [
        "# Problema de mezcla lineal\n",
        "Como ingeniero de procesos de una cervecería, una de tus responsabilidades se basa en planificar la producción.\n",
        "\n",
        "Habeís recibido un pedido de 100 galones de cerveza, cuya graduación debe ser del 4% de alcohol por volumen. La cervecería tiene dos líneas de producción. La cerveza A tiene un porcentaje de alcohol del 4.5% y un coste de producción 0.32 USD/galón mientras que la cerveza B de 3.7% tiene unos costes de producción 0.25 USD/galón. Como alternativa, se puede utilizar agua como agente de mezcla para conseguir la graduación requerida por el cliente, a un coste de 0.05 USD/galón.\n",
        "\n",
        "Tu tarea es encontrar la mezcla de coste mínimo que cumpla las especificaciones del cliente."
      ]
    },
    {
      "cell_type": "markdown",
      "metadata": {
        "id": "-C689QqTF9dA"
      },
      "source": [
        "## Datos\n",
        "El primer paso consiste en represntar los datos del problema como un diccionario. Una de las principales ventajas de elegir esta estructura es que podría extenderse si hiciera falta, por ejemplo, para añadir posibles componenetes adicionales."
      ]
    },
    {
      "cell_type": "code",
      "execution_count": null,
      "metadata": {
        "id": "65pAOpOfF9dB"
      },
      "outputs": [],
      "source": [
        "data ="
      ]
    },
    {
      "cell_type": "markdown",
      "metadata": {
        "id": "tfHUNslpF9dD"
      },
      "source": [
        "## Implementación del modelo\n",
        "El primer paso consiste en importar Pyomo y definir el tipo de modelo que se va a utilizar."
      ]
    },
    {
      "cell_type": "code",
      "execution_count": 6,
      "metadata": {
        "id": "MfAu7WkBF9dD"
      },
      "outputs": [],
      "source": [
        "import pyomo.environ as pyo\n",
        "\n",
        "m  = pyo.ConcreteModel()"
      ]
    },
    {
      "cell_type": "markdown",
      "metadata": {
        "id": "tlpQckmxF9dD"
      },
      "source": [
        "### Sets"
      ]
    },
    {
      "cell_type": "code",
      "execution_count": 7,
      "metadata": {
        "id": "5P--eWN4F9dE"
      },
      "outputs": [],
      "source": [
        "m.C = pyo.Set( initialize = ['A','B','C'], doc = 'Components')"
      ]
    },
    {
      "cell_type": "markdown",
      "metadata": {
        "id": "ifpTYmn_F9dE"
      },
      "source": [
        "### Variables"
      ]
    },
    {
      "cell_type": "code",
      "execution_count": 15,
      "metadata": {
        "colab": {
          "base_uri": "https://localhost:8080/"
        },
        "id": "0KbEnQh_F9dF",
        "outputId": "2ad98c08-974a-48df-e95f-ee7ded8daece"
      },
      "outputs": [
        {
          "output_type": "stream",
          "name": "stderr",
          "text": [
            "WARNING:pyomo.core:Implicitly replacing the Component attribute x (type=<class 'pyomo.core.base.var.IndexedVar'>) on block unknown with a new Component (type=<class 'pyomo.core.base.var.IndexedVar'>).\n",
            "This is usually indicative of a modelling error.\n",
            "To avoid this warning, use block.del_component() and block.add_component().\n"
          ]
        }
      ],
      "source": [
        "m.x = pyo.Var(m.C, within=pyo.NonNegativeReals , doc = 'Volumen m3')"
      ]
    },
    {
      "cell_type": "markdown",
      "source": [
        "## Parámetros"
      ],
      "metadata": {
        "id": "oZdc2I8_G5MK"
      }
    },
    {
      "cell_type": "code",
      "source": [
        "m.P = pyo.Param(m.C, initialize = {'A': 0.32, 'B': 0.25, 'C': 0.05}, doc = 'Coste €/m3')\n",
        "m.apv = pyo.Param( m.C, initialize = {'A': 4.5, 'B': 3.7, 'C': 0.}, doc = 'Graduación')\n",
        "m.V = pyo.Param(initialize = 100, doc = 'Demanda m3')\n",
        "m.apv_spec = pyo.Param(initialize = 4., doc = 'Graduación deseada')"
      ],
      "metadata": {
        "colab": {
          "base_uri": "https://localhost:8080/"
        },
        "id": "Y5Fs_sfTG9Cw",
        "outputId": "55b45470-6950-4d7f-cc64-5fc30126493f"
      },
      "execution_count": 17,
      "outputs": [
        {
          "output_type": "stream",
          "name": "stderr",
          "text": [
            "WARNING:pyomo.core:Implicitly replacing the Component attribute P (type=<class 'pyomo.core.base.param.IndexedParam'>) on block unknown with a new Component (type=<class 'pyomo.core.base.param.IndexedParam'>).\n",
            "This is usually indicative of a modelling error.\n",
            "To avoid this warning, use block.del_component() and block.add_component().\n"
          ]
        }
      ]
    },
    {
      "cell_type": "markdown",
      "metadata": {
        "id": "NKde2RLVF9dF"
      },
      "source": [
        "### Funcion objetivo\n",
        "$$\n",
        "\\begin{align}\n",
        "\\text{coste} & = \\sum_{c\\in C} x_c P_c \\nonumber\n",
        "\\end{align}\n",
        "$$\n",
        "Para definir la función objetivo, se utiliza el comando `Objective` cuya sintaxis es la siguiente:\n",
        "`Objective(expr=myfunction, sense=keyword)`\n",
        "- expr: función que devuelve un único valor\n",
        "- sense: `maximize` o `minimize`\n"
      ]
    },
    {
      "cell_type": "code",
      "execution_count": 18,
      "metadata": {
        "id": "1TlbHgOSF9dG"
      },
      "outputs": [],
      "source": [
        "m.obj = pyo.Objective(expr = sum(m.x[c]*m.P[c]for c in m.C), sense=pyo.minimize)"
      ]
    },
    {
      "cell_type": "markdown",
      "metadata": {
        "id": "D5Ebv0bPF9dG"
      },
      "source": [
        "### Restricciones\n",
        "De igual manera, el comando `Constraint(expr=myfunction)`sirve para definir las restricciones del problema. En este caso, el comando solo toma un argumento: la función con la que evaluar cada una de las restricciones.\n",
        "- Satisfacción de la demanda\n",
        "$\n",
        "\\begin{align}\n",
        "V &  = \\sum_{c\\in C} x_c \\nonumber\n",
        "\\end{align}\n",
        "$"
      ]
    },
    {
      "cell_type": "code",
      "execution_count": 20,
      "metadata": {
        "id": "8kD9r0ciF9dH"
      },
      "outputs": [],
      "source": [
        "m.con_demand = pyo.Constraint(expr = m.V == sum(m.x[c] for c in m.C))"
      ]
    },
    {
      "cell_type": "markdown",
      "metadata": {
        "id": "wf11pRa6F9dH"
      },
      "source": [
        "- Composición del producto\n",
        "$$\n",
        "\\begin{align}\n",
        "\\bar{A} & = \\frac{\\sum_{c\\in C}x_c A_c}{\\sum_{c\\in C} x_c} & \\text{¡No es lineal!} \\nonumber\n",
        "\\end{align}\n",
        "$$\n",
        "$$\n",
        "\\begin{align}\n",
        "0 & = \\sum_{c\\in C}x_c \\left(A_c - \\bar{A}\\right) & \\text{} \\nonumber\n",
        "\\end{align}\n",
        "$$"
      ]
    },
    {
      "cell_type": "code",
      "execution_count": 23,
      "metadata": {
        "id": "7tgNFuEAF9dH"
      },
      "outputs": [],
      "source": [
        "m.con_spec = pyo.Constraint(expr = 0 == sum(m.x[c]*(m.apv[c] - m.apv_spec) for c in m.C))"
      ]
    },
    {
      "cell_type": "markdown",
      "metadata": {
        "id": "bqtnwFnNF9dI"
      },
      "source": [
        "## Selección y llamada al solver\n",
        "El algoritmo que se va a utilizar en la resolución del problema se llama con la orden `SolverFactory(solver_name)`, donde solver `solver_name` debe ser un dato de tipo cadena (string). En este caso, se va a utilizar el paquete GLPK (GNU Linear Programming Kit)."
      ]
    },
    {
      "cell_type": "code",
      "execution_count": 26,
      "metadata": {
        "id": "82LoyhSLF9dI"
      },
      "outputs": [],
      "source": [
        "optimizer = pyo.SolverFactory('glpk', executable='/usr/bin/glpsol')\n",
        "results = optimizer.solve(m)"
      ]
    },
    {
      "cell_type": "markdown",
      "metadata": {
        "id": "gSQgt5csF9dI"
      },
      "source": [
        "## Inspeccionar la solución\n",
        "Una vez ejecutado el comando solve, nuestro objeto `model` se ha modificado y el valor de las variables se corresponde con el de la solución óptima. Para visualizar qué valor ha tomado cada variable hay dos opciones:\n",
        "- Utilizar el comando `pprint()`. La sintaxis correcta es `model.variable.pprint()`, aunque también se puede mostrar toda la información de una vez escribiendo `model.pprint()`.\n",
        "- Accediendo directamente a la solución por medio de `model.variable()`."
      ]
    },
    {
      "cell_type": "code",
      "execution_count": 33,
      "metadata": {
        "colab": {
          "base_uri": "https://localhost:8080/"
        },
        "id": "566f3v-uF9dJ",
        "outputId": "712aeb93-188e-4779-d197-0b6504a8f94e"
      },
      "outputs": [
        {
          "output_type": "stream",
          "name": "stdout",
          "text": [
            "Optimal Blend\n",
            "   A : 37.5 m3\n",
            "   B : 62.5 m3\n",
            "   C : 0.0 m3\n",
            "\n",
            "Volume =  100.0 m3\n",
            "Cost =  27.625  €\n"
          ]
        }
      ],
      "source": [
        "print('Optimal Blend')\n",
        "for c in m.C:\n",
        "    print('  ', c, ':', m.x[c](), 'm3')\n",
        "print()\n",
        "print('Volume = ', sum(m.x[c]() for c in m.C), 'm3')\n",
        "print('Cost = ', m.obj(),' €')"
      ]
    },
    {
      "cell_type": "markdown",
      "metadata": {
        "id": "ZCgm8bcWF9dJ"
      },
      "source": [
        "Además, el objeto `results` contiene información de interés sobre la solución obtenida que puede resultar útil para detectar errores."
      ]
    },
    {
      "cell_type": "code",
      "execution_count": 36,
      "metadata": {
        "colab": {
          "base_uri": "https://localhost:8080/"
        },
        "id": "7rrkNILbF9dJ",
        "outputId": "ca8fa39f-8b39-4dab-d9c0-bb2fa7950196"
      },
      "outputs": [
        {
          "output_type": "stream",
          "name": "stdout",
          "text": [
            "Solver status:  ok\n",
            "Termination condition:  optimal\n"
          ]
        }
      ],
      "source": [
        "print('Solver status: ' ,results.solver.status)\n",
        "print('Termination condition: ', results.solver.termination_condition)"
      ]
    }
  ],
  "metadata": {
    "language_info": {
      "name": "python"
    },
    "colab": {
      "provenance": []
    },
    "kernelspec": {
      "name": "python3",
      "display_name": "Python 3"
    }
  },
  "nbformat": 4,
  "nbformat_minor": 0
}