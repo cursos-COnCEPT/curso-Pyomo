{
 "cells": [
  {
   "cell_type": "markdown",
   "metadata": {},
   "source": [
    "# Fundamentos de Python"
   ]
  },
  {
   "cell_type": "markdown",
   "metadata": {},
   "source": [
    "## 1. Tipos simples de datos"
   ]
  },
  {
   "cell_type": "markdown",
   "metadata": {},
   "source": [
    "Python es un lenguaje de programación orientado a objetos, es decir, todo en Python es un objeto o pertenece a una clase. Esto incluye números, caracteres, cadenas, figuras, etc. El funcionamiento de los datos numéricos y de las cadenas es muy similar a MATLAB."
   ]
  },
  {
   "cell_type": "code",
   "execution_count": 2,
   "metadata": {},
   "outputs": [],
   "source": [
    "a = 7       # This is a number\n",
    "b = 7.\n",
    "c = 'Seven' # This is a string"
   ]
  },
  {
   "cell_type": "markdown",
   "metadata": {},
   "source": [
    "Comprueba qué tipo de datos es cada una de las variables anteriores utilizando el comando `type`."
   ]
  },
  {
   "cell_type": "code",
   "execution_count": null,
   "metadata": {},
   "outputs": [],
   "source": [
    "type(a)"
   ]
  },
  {
   "cell_type": "markdown",
   "metadata": {},
   "source": [
    "En Python es importante tener estas diferencias en cuenta. Por ejemplo, prueba con un simple bucle `for`:"
   ]
  },
  {
   "cell_type": "code",
   "execution_count": null,
   "metadata": {},
   "outputs": [],
   "source": [
    "for i in range(a):\n",
    "    print(i)"
   ]
  },
  {
   "cell_type": "markdown",
   "metadata": {},
   "source": [
    "#### DIFERENCIA 1 CON MATLAB : el primer elemento de una secuencia en Python empieza en 0."
   ]
  },
  {
   "cell_type": "markdown",
   "metadata": {},
   "source": [
    "Ahora prueba lo siguiente:\n",
    "```python\n",
    "for i in range(c):\n",
    "    print(i)\n",
    "```"
   ]
  },
  {
   "cell_type": "code",
   "execution_count": null,
   "metadata": {},
   "outputs": [],
   "source": []
  },
  {
   "cell_type": "markdown",
   "metadata": {},
   "source": [
    "## 2. Listas y arrays"
   ]
  },
  {
   "cell_type": "markdown",
   "metadata": {},
   "source": [
    "#### DIFERENCIA 2 CON MATLAB: MATLAB no tiene listas.\n",
    "\n",
    "¿Qué pasaría si intentamos ejecutar la siguiente orden en MATLAB?\n",
    "```matlab\n",
    "A = [1, 'a', 1.2]\n",
    "```\n",
    "Daría error, porque MATLAB trabaja con matrices y no hay matrices que mezclen números y cadenas. Sin embargo, en Python sí que es posible con listas. Los elementos de una lista van siempre entre `[` `]`."
   ]
  },
  {
   "cell_type": "code",
   "execution_count": null,
   "metadata": {},
   "outputs": [],
   "source": [
    "lista1 = [1, 'a', 1.2]\n",
    "print(lista1)"
   ]
  },
  {
   "cell_type": "markdown",
   "metadata": {},
   "source": [
    "Además, es muy frecuente utilizar *nested lists*. Se asemejan a las matrices de MATLAB, pero siguen siendo listas una dentro de otra."
   ]
  },
  {
   "cell_type": "code",
   "execution_count": 6,
   "metadata": {},
   "outputs": [],
   "source": [
    "lista2 = [[1,3],[4,5]]"
   ]
  },
  {
   "cell_type": "markdown",
   "metadata": {},
   "source": [
    "#### DIFERENCIA 3 CON MATLAB: Para acceder a los elementos de una lista se utilizan `[]` y no `()`."
   ]
  },
  {
   "cell_type": "code",
   "execution_count": null,
   "metadata": {},
   "outputs": [],
   "source": [
    "print('El primer elemento de la lista1 es:', ________________ )\n",
    "print('El segundo es:', ________________ )\n",
    "print('El primer elemento de la primera lista en lista2 es:', _______________ )\n",
    "print('El último elemento de la segunda lista en lista2 es:', _______________ )\n",
    "print('Todos los elementos de lista1 menos el primero:', _________________ )  # ATENCIÓN: El elemento de la izquierda del : se incluye\n",
    "print('Todos los elementos de lista1 menos el último:', _______________ )  # ATENCIÓN: El elemento a la derecha no se incluye\n",
    "print('Desde el segundo elemento de lista1 hasta el penúltimo:', _________________ )"
   ]
  },
  {
   "cell_type": "markdown",
   "metadata": {},
   "source": [
    "## 3. Definición de funciones"
   ]
  },
  {
   "cell_type": "markdown",
   "metadata": {},
   "source": [
    "Las funciones se utilizan mucho en Python y sirven para automatizar tareas. En MATLAB, una función se define de la siguiente forma:\n",
    "\n",
    "```matlab\n",
    "function z = f(x,y)\n",
    "end \n",
    "```\n",
    "Donde:\n",
    "- `z`: Output de la función\n",
    "- `x,y`: Inputs de la función"
   ]
  },
  {
   "cell_type": "markdown",
   "metadata": {},
   "source": [
    "#### DIFERENCIA 4 CON MATLAB: En Python, el output se define al final de la función utilizando la palabra clave `return`."
   ]
  },
  {
   "cell_type": "code",
   "execution_count": 9,
   "metadata": {},
   "outputs": [],
   "source": [
    "def f(x,y):\n",
    "    return x+y, y**2, x**2"
   ]
  },
  {
   "cell_type": "markdown",
   "metadata": {},
   "source": [
    "Las funciones pueden utilizarse directamente, no hace falta definir un nombre a la variable de salida si no lo necesitamos."
   ]
  },
  {
   "cell_type": "code",
   "execution_count": null,
   "metadata": {},
   "outputs": [],
   "source": [
    "f(3,2)"
   ]
  },
  {
   "cell_type": "markdown",
   "metadata": {},
   "source": [
    "También pueden definirse funciones sin nombre, llamadas funciones lambda. Por ejemplo, la función f(x) = x^2 se puede definir como:\n",
    "```python\n",
    "func_anonima = lambda x,y : x+y, y**2, x**2\n",
    "```\n",
    "Prueba a definir esta función y a utilizarla como en el ejemplo anterior."
   ]
  },
  {
   "cell_type": "code",
   "execution_count": null,
   "metadata": {},
   "outputs": [],
   "source": []
  },
  {
   "cell_type": "markdown",
   "metadata": {},
   "source": [
    "¿Te has dado cuenta de que el output de la función aparece entre `()`? Esto indica que es un tipo de datos `tuple`. Las tuplas son estructuras muy similares a las listas (almacenan diferentes tipos de datos bajo una misma variable, se puede acceder a sus elementos de la misma manera...) pero con la diferencia de que son inmutables, es decir, sus elementos no se pueden cambiar una vez creada la tupla."
   ]
  },
  {
   "cell_type": "code",
   "execution_count": null,
   "metadata": {},
   "outputs": [],
   "source": [
    "tupla1 = f(3,2)\n",
    "type(tupla1)\n",
    "print('El primer elemento de la tupla1 es:', tupla1[0] )\n",
    "tupla1[0] = 8\n"
   ]
  },
  {
   "cell_type": "markdown",
   "metadata": {},
   "source": [
    "## 4. Diccionarios"
   ]
  },
  {
   "cell_type": "markdown",
   "metadata": {},
   "source": [
    "Los diccionarios son la herramienta princial para definir sets en Pyomo. Se definen empleando `{}` y son el equivalente al tipo de datos `cell` de MATLAB. "
   ]
  },
  {
   "cell_type": "code",
   "execution_count": null,
   "metadata": {},
   "outputs": [],
   "source": [
    "dictionary0 = {'item1': 1, 'item2': 2, 'item3': 3}\n",
    "dictionary1 = {}"
   ]
  },
  {
   "cell_type": "markdown",
   "metadata": {},
   "source": [
    "Los diccionarios pueden crearse con elementos directamente, o ir añandiéndolos a posteriori.\n",
    "\n",
    "Una forma de ver los diccionarios es como pares `key: value`, con la condición de que las claves o *keys* no pueden repetirse. Puede añadirse cualquier tipo de variable a las *keys*, incluso tuplas, así como a los *values* correspondientes."
   ]
  },
  {
   "cell_type": "code",
   "execution_count": null,
   "metadata": {},
   "outputs": [],
   "source": [
    "dictionary1['a','b']= 2\n",
    "dictionary1['a'] = [2,3,4]\n",
    "dictionary1[18,29] = ('A',278,'string')\n",
    "dictionary1[0] = 'Hello'\n",
    "\n",
    "print(dictionary1, '\\n')\n",
    "\n",
    "# Acceder solo a las keys\n",
    "print('Las keys de dictionary1 son:')\n",
    "for key in dictionary1.keys():\n",
    "    print(key)\n",
    "\n",
    "# Acceder solo a los values\n",
    "print('\\n Los values de dictionary1 son:')\n",
    "for value in dictionary1.values():\n",
    "    print(value)\n"
   ]
  },
  {
   "cell_type": "markdown",
   "metadata": {},
   "source": [
    "Existen diferentes alternativas para crear diccionarios como, por ejemplo, combinando comando `dict` con la función `zip`, que empareja los elementos de dos listas."
   ]
  },
  {
   "cell_type": "code",
   "execution_count": null,
   "metadata": {},
   "outputs": [],
   "source": [
    "keys = ['a','b','c']\n",
    "values = [1,2,3]\n",
    "\n",
    "dictionary2 = dict(zip(keys,values))\n",
    "print(dictionary2)"
   ]
  },
  {
   "cell_type": "markdown",
   "metadata": {},
   "source": [
    "Para acceder a los elementos de un diccionario, la sintaxis es `dict_name[dict_key]`."
   ]
  },
  {
   "cell_type": "code",
   "execution_count": null,
   "metadata": {},
   "outputs": [],
   "source": [
    "# Accede al valor de la key 'b' en dictionary2\n",
    "valor_b =  # TO DO\n",
    "print('El valor de la key b en dictionary2 es:', valor_b)"
   ]
  },
  {
   "cell_type": "markdown",
   "metadata": {},
   "source": [
    "## 5. Bucles y condicionales"
   ]
  },
  {
   "cell_type": "markdown",
   "metadata": {},
   "source": [
    "Como en la mayoría de lenguajes de programación, los bucles `for` e `if` son ampliamente utilizados en Python. Abajo puedes consultar la sintaxis básica de estos bucles."
   ]
  },
  {
   "cell_type": "code",
   "execution_count": null,
   "metadata": {},
   "outputs": [],
   "source": [
    "for i in range(1,8):\n",
    "    if i%2==0:\n",
    "        print(i)"
   ]
  },
  {
   "cell_type": "markdown",
   "metadata": {},
   "source": [
    "En Pyhton existen diferentes formas de generar un bucle `for`. "
   ]
  },
  {
   "cell_type": "code",
   "execution_count": null,
   "metadata": {},
   "outputs": [],
   "source": [
    "# Iterando sobre una secuencia de números \n",
    "for i in range(0,3):\n",
    "    print(i)\n",
    "    \n",
    "print('----------------')\n",
    "    \n",
    "# Iterando sobre una lista para obtener tanto el índice como el elemento\n",
    "for idx , elm in enumerate(['hola', 'que', 'tal']):\n",
    "    print(idx , elm)"
   ]
  },
  {
   "cell_type": "markdown",
   "metadata": {},
   "source": [
    "Atención a la diferencia entre `range` e `in`."
   ]
  },
  {
   "cell_type": "code",
   "execution_count": null,
   "metadata": {},
   "outputs": [],
   "source": [
    "values = [1,3,4,5]\n",
    "for i in values:\n",
    "    print(i)\n",
    "print('----------------')\n",
    "for i in range(len(values)):\n",
    "    print(i)"
   ]
  },
  {
   "cell_type": "markdown",
   "metadata": {},
   "source": [
    "Por último, vamos a ver cómo pueden crearse diccionarios y listas utilizando bucles (*list and dictionary comprehension*). Por ejemplo:"
   ]
  },
  {
   "cell_type": "code",
   "execution_count": null,
   "metadata": {},
   "outputs": [],
   "source": [
    "a = []\n",
    "for i in range(3):\n",
    "    a.append(i)\n",
    "b = [i for i in range(3)]\n",
    "print('Utilizando un bucle for obtenemos:', a)\n",
    "print('Utilizando list comprehension se obtiene:', b)"
   ]
  },
  {
   "cell_type": "markdown",
   "metadata": {},
   "source": [
    "Esta técnica permite ahorrar tiempo y espacio al declarar bucles."
   ]
  },
  {
   "cell_type": "code",
   "execution_count": null,
   "metadata": {},
   "outputs": [],
   "source": [
    "# Esto...\n",
    "k1 = []\n",
    "[k1.append('k'+str(i)) for i in range(3)]\n",
    "\n",
    "# ... es equivalente a ...\n",
    "k2 = ['k'+str(i) for i in range(3)]\n",
    "\n",
    "# ... y a ...\n",
    "k3 = []\n",
    "for i in range(3):\n",
    "    k3.append('k'+str(i))\n",
    "print(k1)\n",
    "print(k2)\n",
    "print(k3)"
   ]
  },
  {
   "cell_type": "markdown",
   "metadata": {},
   "source": [
    "Otro ejemplo más para crear un diccionario a partir de una lista."
   ]
  },
  {
   "cell_type": "code",
   "execution_count": null,
   "metadata": {},
   "outputs": [],
   "source": [
    "values= ['a', 'b', 'c']\n",
    "dictionary3 = {k:v for k,v in zip(k1,values)} \n",
    "print(dictionary3)"
   ]
  }
 ],
 "metadata": {
  "kernelspec": {
   "display_name": ".venv",
   "language": "python",
   "name": "python3"
  },
  "language_info": {
   "codemirror_mode": {
    "name": "ipython",
    "version": 3
   },
   "file_extension": ".py",
   "mimetype": "text/x-python",
   "name": "python",
   "nbconvert_exporter": "python",
   "pygments_lexer": "ipython3",
   "version": "3.10.13"
  }
 },
 "nbformat": 4,
 "nbformat_minor": 2
}
